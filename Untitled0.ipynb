{
 "metadata": {
  "name": ""
 },
 "nbformat": 3,
 "nbformat_minor": 0,
 "worksheets": [
  {
   "cells": [
    {
     "cell_type": "code",
     "collapsed": false,
     "input": [
      "%matplotlib inline\n",
      "import numpy as np\n",
      "import matplotlib.pyplot as plt\n",
      "\n",
      "def plot(amplitude, color):\n",
      "    fig, ax = plt.subplots(figsize=(4, 3),\n",
      "                           subplot_kw={'axisbg':'#EEEEEE',\n",
      "                                       'axisbelow':True})\n",
      "    ax.grid(color='w', linewidth=2, linestyle='solid')\n",
      "    x = np.linspace(0, 10, 1000)\n",
      "    ax.plot(x, amplitude * np.sin(x), color=color,\n",
      "            lw=5, alpha=0.4)\n",
      "    ax.set_xlim(0, 10)\n",
      "    ax.set_ylim(-1.1, 1.1)\n",
      "    return fig"
     ],
     "language": "python",
     "metadata": {},
     "outputs": [],
     "prompt_number": 1
    },
    {
     "cell_type": "code",
     "collapsed": false,
     "input": [
      "from ipywidgets import StaticInteract, RangeWidget, RadioWidget\n",
      "\n",
      "StaticInteract(plot,\n",
      "               amplitude=RangeWidget(0.1, 1.0, 0.1),\n",
      "               color=RadioWidget(['blue', 'green', 'red']))"
     ],
     "language": "python",
     "metadata": {},
     "outputs": [
      {
       "ename": "ImportError",
       "evalue": "No module named ipywidgets",
       "output_type": "pyerr",
       "traceback": [
        "\u001b[1;31m---------------------------------------------------------------------------\u001b[0m\n\u001b[1;31mImportError\u001b[0m                               Traceback (most recent call last)",
        "\u001b[1;32m<ipython-input-2-e66f5ca20468>\u001b[0m in \u001b[0;36m<module>\u001b[1;34m()\u001b[0m\n\u001b[1;32m----> 1\u001b[1;33m \u001b[1;32mfrom\u001b[0m \u001b[0mipywidgets\u001b[0m \u001b[1;32mimport\u001b[0m \u001b[0mStaticInteract\u001b[0m\u001b[1;33m,\u001b[0m \u001b[0mRangeWidget\u001b[0m\u001b[1;33m,\u001b[0m \u001b[0mRadioWidget\u001b[0m\u001b[1;33m\u001b[0m\u001b[0m\n\u001b[0m\u001b[0;32m      2\u001b[0m \u001b[1;33m\u001b[0m\u001b[0m\n\u001b[0;32m      3\u001b[0m StaticInteract(plot,\n\u001b[0;32m      4\u001b[0m                \u001b[0mamplitude\u001b[0m\u001b[1;33m=\u001b[0m\u001b[0mRangeWidget\u001b[0m\u001b[1;33m(\u001b[0m\u001b[1;36m0.1\u001b[0m\u001b[1;33m,\u001b[0m \u001b[1;36m1.0\u001b[0m\u001b[1;33m,\u001b[0m \u001b[1;36m0.1\u001b[0m\u001b[1;33m)\u001b[0m\u001b[1;33m,\u001b[0m\u001b[1;33m\u001b[0m\u001b[0m\n\u001b[0;32m      5\u001b[0m                color=RadioWidget(['blue', 'green', 'red']))\n",
        "\u001b[1;31mImportError\u001b[0m: No module named ipywidgets"
       ]
      }
     ],
     "prompt_number": 2
    },
    {
     "cell_type": "code",
     "collapsed": false,
     "input": [],
     "language": "python",
     "metadata": {},
     "outputs": []
    }
   ],
   "metadata": {}
  }
 ]
}