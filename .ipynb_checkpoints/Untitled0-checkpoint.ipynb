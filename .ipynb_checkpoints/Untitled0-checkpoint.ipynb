{
 "metadata": {
  "name": ""
 },
 "nbformat": 3,
 "nbformat_minor": 0,
 "worksheets": [
  {
   "cells": [
    {
     "cell_type": "code",
     "collapsed": false,
     "input": [
      "%matplotlib inline\n",
      "import numpy as np\n",
      "import matplotlib.pyplot as plt\n",
      "\n",
      "def plot(amplitude, color):\n",
      "    fig, ax = plt.subplots(figsize=(4, 3),\n",
      "                           subplot_kw={'axisbg':'#EEEEEE',\n",
      "                                       'axisbelow':True})\n",
      "    ax.grid(color='w', linewidth=2, linestyle='solid')\n",
      "    x = np.linspace(0, 10, 1000)\n",
      "    ax.plot(x, amplitude * np.sin(x), color=color,\n",
      "            lw=5, alpha=0.4)\n",
      "    ax.set_xlim(0, 10)\n",
      "    ax.set_ylim(-1.1, 1.1)\n",
      "    return fig"
     ],
     "language": "python",
     "metadata": {},
     "outputs": [],
     "prompt_number": 1
    },
    {
     "cell_type": "code",
     "collapsed": false,
     "input": [
      "from ipywidgets import StaticInteract, RangeWidget, RadioWidget\n",
      "\n",
      "StaticInteract(plot,\n",
      "               amplitude=RangeWidget(0.1, 1.0, 0.1),\n",
      "               color=RadioWidget(['blue', 'green', 'red']))"
     ],
     "language": "python",
     "metadata": {},
     "outputs": []
    }
   ],
   "metadata": {}
  }
 ]
}